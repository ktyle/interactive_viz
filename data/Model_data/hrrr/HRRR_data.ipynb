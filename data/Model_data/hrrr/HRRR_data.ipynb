{
 "cells": [
  {
   "cell_type": "code",
   "execution_count": 16,
   "id": "a36019e5-8335-4271-acf4-8339872bcfb7",
   "metadata": {
    "tags": []
   },
   "outputs": [
    {
     "name": "stdout",
     "output_type": "stream",
     "text": [
      "01\n",
      "02\n",
      "03\n",
      "04\n",
      "05\n",
      "06\n",
      "07\n",
      "08\n",
      "09\n",
      "10\n",
      "11\n",
      "12\n",
      "13\n",
      "14\n",
      "15\n",
      "16\n",
      "17\n",
      "18\n"
     ]
    }
   ],
   "source": [
    "import wget\n",
    "import requests\n",
    "from bs4 import BeautifulSoup\n",
    "import datetime\n",
    "import os\n",
    "import glob\n",
    "import xarray as xr\n",
    "for file_path in glob.glob(\"hrrr_data_*\"):\n",
    "    os.remove(file_path)\n",
    "\n",
    "url = 'https://nomads.ncep.noaa.gov/cgi-bin/filter_hrrr_2d.pl'\n",
    "reqs = requests.get(url)\n",
    "soup = BeautifulSoup(reqs.text, 'html.parser')\n",
    "\n",
    "urls_gfs = []\n",
    "for link in soup.find_all('a'):\n",
    "    #print(link.get('href'))\n",
    "    urls_gfs.append(link.get('href'))\n",
    "    \n",
    "date = urls_gfs[0][-8::]\n",
    "\n",
    "# Get the current UTC time\n",
    "current_time = datetime.datetime.utcnow()\n",
    "\n",
    "hour = current_time.hour - 1\n",
    "if hour == -1:\n",
    "    hour = 23\n",
    "if hour == 23:\n",
    "    date = int(date)-1\n",
    "\n",
    "\n",
    "# Format the new time in the format of \"HHMM\"\n",
    "time_str = hour\n",
    "if len(str(time_str)) == 1:\n",
    "    time_str = f'0{time_str}'\n",
    "else:\n",
    "    time_str = time_str\n",
    "    \n",
    "if hour == 0 or hour == 6 or hour == 12 or hour == 18:\n",
    "    end = 48+1\n",
    "else:\n",
    "    end = 18+1\n",
    "\n",
    "for x in range(1,end,1):\n",
    "    if len(str(x)) == 1:\n",
    "        x2 = f'0{x}'\n",
    "    if len(str(x)) == 2:\n",
    "        x2 = f'{x}'\n",
    "    print(x2)\n",
    "    ds_hrrr = wget.download(f'https://nomads.ncep.noaa.gov/cgi-bin/filter_hrrr_2d.pl?file=hrrr.t{time_str}z.wrfsfcf{x2}.grib2&lev_1000_m_above_ground=on&lev_mean_sea_level=on&lev_surface=on&var_GUST=on&var_APCP=on&var_CFRZR=on&var_CICEP=on&var_CRAIN=on&var_CSNOW=on&var_REFD=on&var_MSLMA=on&var_TMP=on&var_UGRD=on&var_VGRD=on&subregion=&leftlon=280&rightlon=295&toplat=47&bottomlat=37&dir=%2Fhrrr.{date}%2Fconus', out =f'hrrr_data_{x2}.grb2')\n",
    "    ds_hrrr_hght = wget.download(f'https://nomads.ncep.noaa.gov/cgi-bin/filter_hrrr_2d.pl?file=hrrr.t{time_str}z.wrfsfcf{x2}.grib2&lev_2_m_above_ground=on&var_TMP=on&var_UGRD=on&var_VGRD=on&subregion=&leftlon=280&rightlon=295&toplat=47&bottomlat=37&dir=%2Fhrrr.{date}%2Fconus', out =f'hrrr_data_hght_{x2}.grb2')\n",
    "\n",
    "    "
   ]
  }
 ],
 "metadata": {
  "kernelspec": {
   "display_name": "Python 3 Development Environment",
   "language": "python",
   "name": "oct22"
  },
  "language_info": {
   "codemirror_mode": {
    "name": "ipython",
    "version": 3
   },
   "file_extension": ".py",
   "mimetype": "text/x-python",
   "name": "python",
   "nbconvert_exporter": "python",
   "pygments_lexer": "ipython3",
   "version": "3.10.8"
  }
 },
 "nbformat": 4,
 "nbformat_minor": 5
}
