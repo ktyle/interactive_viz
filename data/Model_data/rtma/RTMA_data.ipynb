{
 "cells": [
  {
   "cell_type": "code",
   "execution_count": 5,
   "id": "a36019e5-8335-4271-acf4-8339872bcfb7",
   "metadata": {},
   "outputs": [],
   "source": [
    "import wget\n",
    "import requests\n",
    "from bs4 import BeautifulSoup\n",
    "import datetime\n",
    "import os\n",
    "os.remove(\"rtma_data.grb2\")\n",
    "\n",
    "url = 'https://nomads.ncep.noaa.gov/cgi-bin/filter_rtma_ru.pl'\n",
    "reqs = requests.get(url)\n",
    "soup = BeautifulSoup(reqs.text, 'html.parser')\n",
    "\n",
    "urls_gfs = []\n",
    "for link in soup.find_all('a'):\n",
    "    #print(link.get('href'))\n",
    "    urls_gfs.append(link.get('href'))\n",
    "    \n",
    "date = urls_gfs[0][-8::]\n",
    "\n",
    "# Get the current UTC time\n",
    "current_time = datetime.datetime.utcnow()\n",
    "\n",
    "# Round the time to the nearest 15 minutes\n",
    "rounded_time = current_time.replace(microsecond=0, second=0, minute=int(current_time.minute / 15) * 15)\n",
    "\n",
    "# Subtract 15 minutes from the current time\n",
    "new_time = rounded_time - datetime.timedelta(minutes=15)\n",
    "\n",
    "# Format the new time in the format of \"HHMM\"\n",
    "time_str = new_time.strftime(\"%H%M\")\n",
    "\n",
    "ds_rtma = wget.download(f'https://nomads.ncep.noaa.gov/cgi-bin/filter_rtma_ru.pl?file=rtma2p5_ru.t{time_str}z.2dvaranl_ndfd.grb2&all_lev=on&var_GUST=on&var_PRES=on&var_TMP&leftlon=0&rightlon=360&toplat=90&bottomlat=-90&dir=%2Frtma2p5_ru.{date}', out='rtma_data.grb2')\n"
   ]
  },
  {
   "cell_type": "code",
   "execution_count": 7,
   "id": "06d25880-55f8-4993-839f-6aede18b4ddf",
   "metadata": {},
   "outputs": [
    {
     "data": {
      "text/plain": [
       "19"
      ]
     },
     "execution_count": 7,
     "metadata": {},
     "output_type": "execute_result"
    }
   ],
   "source": [
    "current_time.hour"
   ]
  },
  {
   "cell_type": "code",
   "execution_count": null,
   "id": "6679479e-aa26-4514-97b4-a3efa345df32",
   "metadata": {},
   "outputs": [],
   "source": []
  }
 ],
 "metadata": {
  "kernelspec": {
   "display_name": "Python 3 Development Environment",
   "language": "python",
   "name": "oct22"
  },
  "language_info": {
   "codemirror_mode": {
    "name": "ipython",
    "version": 3
   },
   "file_extension": ".py",
   "mimetype": "text/x-python",
   "name": "python",
   "nbconvert_exporter": "python",
   "pygments_lexer": "ipython3",
   "version": "3.10.8"
  }
 },
 "nbformat": 4,
 "nbformat_minor": 5
}
