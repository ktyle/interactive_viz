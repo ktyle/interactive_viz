{
 "cells": [
  {
   "cell_type": "code",
   "execution_count": 14,
   "id": "16254de8-47ea-4564-a8bc-622ea1f10dc6",
   "metadata": {
    "tags": []
   },
   "outputs": [],
   "source": [
    "import requests\n",
    "from bs4 import BeautifulSoup\n",
    "import wget\n",
    "import glob\n",
    "import xarray as xr\n",
    "import os"
   ]
  },
  {
   "cell_type": "code",
   "execution_count": 15,
   "id": "dc7af6e2-93a7-43a8-97be-324527bdaefa",
   "metadata": {
    "tags": []
   },
   "outputs": [],
   "source": [
    "url = 'https://nomads.ncep.noaa.gov/cgi-bin/filter_gfs_0p25_1hr.pl'\n",
    "reqs = requests.get(url)\n",
    "soup = BeautifulSoup(reqs.text, 'html.parser')\n",
    "\n",
    "urls_gfs = []\n",
    "for link in soup.find_all('a'):\n",
    "    #print(link.get('href'))\n",
    "    urls_gfs.append(link.get('href'))\n",
    "    \n",
    "date = urls_gfs[0][-8::]\n",
    "\n",
    "url = url+f'?dir=%2Fgfs.{date}'\n",
    "reqs = requests.get(url)\n",
    "soup = BeautifulSoup(reqs.text, 'html.parser')\n",
    "urls_gefs = []\n",
    "for link in soup.find_all('a'):\n",
    "    #print(link.get('href'))\n",
    "    urls_gefs.append(link.get('href'))\n",
    "    \n",
    "time = urls_gefs[0]\n",
    "time = time[-2::]\n",
    "\n",
    "#delete all fikes\n",
    "files = [file for file in glob.glob(\"*.pgrb2*\")]\n",
    "for file in files:\n",
    "    os.remove(file)\n",
    "\n",
    "for x in range(6,22,6):\n",
    "    \n",
    "    if len(str(x)) == 1:\n",
    "        x2 = f'00{x}'\n",
    "    if len(str(x)) == 2:\n",
    "        x2 = f'0{x}'\n",
    "    if len(str(x)) == 3:\n",
    "        x2 = x\n",
    "        \n",
    "    ds = wget.download(f'https://nomads.ncep.noaa.gov/cgi-bin/filter_gfs_0p25_1hr.pl?file=gfs.t{time}z.pgrb2.0p25.f{x2}&lev_2_m_above_ground=on&lev_entire_atmosphere_%5C%28considered_as_a_single_layer%5C%29=on&lev_10_m_above_ground=on&lev_250_mb=on&lev_500_mb=on&lev_entire_atmosphere=on&lev_700_mb=on&lev_850_mb=on&lev_950_mb=on&lev_1000_mb=on&lev_mean_sea_level=on&lev_surface=on&var_PWAT=on&var_ACPCP=on&var_REFC=on&var_VVEL=on&var_APCP=on&var_CFRZR=on&var_CICEP=on&var_CRAIN=on&var_CSNOW=on&var_DPT=on&var_HGT=on&var_ABSV=on&var_MSLET=on&var_PRATE=on&var_TMP=on&var_UGRD=on&var_VGRD=on&subregion=&leftlon=230&rightlon=295&toplat=55.5&bottomlat=20.5&dir=%2Fgfs.{date}%2F{time}%2Fatmos')\n",
    "\n"
   ]
  },
  {
   "cell_type": "code",
   "execution_count": null,
   "id": "654aee0a-d98a-404f-b44a-211c41416b94",
   "metadata": {},
   "outputs": [],
   "source": []
  }
 ],
 "metadata": {
  "kernelspec": {
   "display_name": "Python 3 Development Environment",
   "language": "python",
   "name": "oct22"
  },
  "language_info": {
   "codemirror_mode": {
    "name": "ipython",
    "version": 3
   },
   "file_extension": ".py",
   "mimetype": "text/x-python",
   "name": "python",
   "nbconvert_exporter": "python",
   "pygments_lexer": "ipython3",
   "version": "3.10.8"
  }
 },
 "nbformat": 4,
 "nbformat_minor": 5
}
